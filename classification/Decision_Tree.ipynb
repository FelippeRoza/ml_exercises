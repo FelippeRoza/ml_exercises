{
 "cells": [
  {
   "cell_type": "markdown",
   "metadata": {},
   "source": [
    "# Decision Tree    \n",
    "\n",
    "<img style=\"float: left;\" width=\"400\" src=\"images/DT_example.png\">"
   ]
  },
  {
   "cell_type": "markdown",
   "metadata": {},
   "source": [
    "* Decision Tree learning (DT) is a supervised learning method mostly used to model categorical variables (classification problems).\n",
    "\n",
    "* The tree representation consists in a structure containint nodes, branches and leaves.\n",
    "\n",
    "    * The nodes are the conditional elements, where the next element is chosen depending on the input value\n",
    "    * The branches are the connections between nodes (or nodes and leaves)\n",
    "    * Leaves represent the final classification classes\n",
    "    * The path to reach a leaf is called classification rule\n",
    " \n",
    "\n",
    "* Because of its simplicity, a tree diagram can be used in a broad range of applications and disciplines including civil planning, energy, financial, engineering, healthcare, pharmaceutical, education, law, and business.\n",
    "\n"
   ]
  },
  {
   "cell_type": "markdown",
   "metadata": {},
   "source": [
    "## Entropy\n",
    "\n",
    "* Entropy carachterize the organization of an example colection:\n",
    "\n",
    "    * Given a set $S$, containing positive and negative values for the target variable (i.e. binary), $Entropy$ is given by:\n",
    "\n",
    "\\begin{equation} Entropy(S) = -p_{+}\\log_{2}p_{+}-p_{-}\\log_{2}p_{-} \\end{equation}\n",
    "\n",
    "where $p_+$ is the ratio of examples labeled as positive and $p_-$ as negative.\n",
    "\n",
    "* note: for the calculations envolving entropy, $0 \\cdot log_2(0)$ is assumed as 0.\n",
    "\n",
    "* From the equation above, $Entropy$ is 0 when all elements of $S$ are from the same class and 1 when it contains an equal number of negative and positive examples.\n",
    "\n",
    "* Remark: the sum of $p_+$ and $p_-$ will always be 1\n",
    "\n",
    "    * Therefore, $p_- = 1 - p_+$\n",
    "\n",
    "\\begin{equation} Entropy(S) = -p_{+}\\log_{2}p_{+}-(1 - p_{+})\\log_{2}(1 - p_{+}) \\end{equation}\n"
   ]
  },
  {
   "cell_type": "code",
   "execution_count": 18,
   "metadata": {},
   "outputs": [
    {
     "name": "stderr",
     "output_type": "stream",
     "text": [
      "C:\\ProgramData\\Anaconda3\\lib\\site-packages\\ipykernel_launcher.py:8: RuntimeWarning: divide by zero encountered in log2\n",
      "  \n",
      "C:\\ProgramData\\Anaconda3\\lib\\site-packages\\ipykernel_launcher.py:8: RuntimeWarning: invalid value encountered in multiply\n",
      "  \n"
     ]
    },
    {
     "data": {
      "text/plain": [
       "[<matplotlib.lines.Line2D at 0x1e4b1f58a20>]"
      ]
     },
     "execution_count": 18,
     "metadata": {},
     "output_type": "execute_result"
    },
    {
     "data": {
      "image/png": "[encoded data removed]",
      "text/plain": [
       "<Figure size 432x288 with 1 Axes>"
      ]
     },
     "metadata": {
      "needs_background": "light"
     },
     "output_type": "display_data"
    }
   ],
   "source": [
    "import pandas as pd\n",
    "import numpy as np\n",
    "import matplotlib.pyplot as plt\n",
    "\n",
    "p_plus = np.linspace(0, 1, 100)\n",
    "p_plus\n",
    "p_minus = 1 - p_plus\n",
    "entropy = - p_plus * np.log2(p_plus) - p_minus * np.log2(p_minus)\n",
    "entropy = np.nan_to_num(entropy) # to fill the zero divisions by 0\n",
    "\n",
    "plt.xlabel(r'$p_+$')\n",
    "plt.ylabel(r'$Entropy$')\n",
    "plt.plot(p_plus, entropy)\n"
   ]
  },
  {
   "cell_type": "markdown",
   "metadata": {},
   "source": [
    "Generalizando o cálculo da entropia para casos em que o atributo-objetivo possui mais que dois valores possíveis, define-se a entropia como:\n",
    "\n",
    "* Generalizing entropy for multiple classes:\n",
    "\n",
    "\\begin{equation}\n",
    "\\label{entropy_generalized}\n",
    "Entropy(S) = \\sum_{i=1}^{c}-p_{i}\\log_{2}p_{i}\n",
    "\\end{equation}\n",
    "\n",
    "where $p_{i}$ is the proportion of elements from S corresponding to the class $i$ and $c$ is the total number of classes.\n",
    "\n",
    "* **Classification tree algorithms build an tree decision model that order the test attributes in order to minimize entropy**\n",
    "* The smaller the entropy the more organized are the groups of examples"
   ]
  },
  {
   "cell_type": "markdown",
   "metadata": {},
   "source": []
  },
  {
   "cell_type": "code",
   "execution_count": 8,
   "metadata": {},
   "outputs": [],
   "source": [
    "def entropy(s):\n",
    "    #s is a pandas series\n",
    "    entropy = 0\n",
    "    for i in s.unique():\n",
    "        pi = float((s == i).sum())/len(s) #proportion of s belonging to class i\n",
    "        entropy = entropy - pi*log(pi,2)\n",
    "    return entropy\n",
    "\n",
    "class Tree(object):\n",
    "    def __init__(self, arg):\n",
    "        self.root = None\n",
    "        self.label = None\n",
    "        self.branches = []\n",
    "\n",
    "    def add_branch(self):\n",
    "        self.branches.append(Tree())\n",
    "\n",
    "    def define_label(self, label):\n",
    "        self.label = label\n",
    "\n",
    "def ID3(examples, target_attributes, attributes):\n",
    "\n",
    "    tree = Tree()\n",
    "    if all(examples > 0):\n",
    "        tree.define_label('+')\n",
    "        return tree\n",
    "    if all(examples < 0):\n",
    "        tree.define_label('-')\n",
    "        return tree"
   ]
  },
  {
   "cell_type": "code",
   "execution_count": null,
   "metadata": {},
   "outputs": [],
   "source": []
  },
  {
   "cell_type": "markdown",
   "metadata": {},
   "source": [
    "## Iris dataset\n",
    "\n",
    "* This data sets consists of 3 different types of irises’ petal and sepal length\n",
    "* Introduced by the British statistician and biologist Ronald Fisher in his 1936 paper *\"The use of multiple measurements in taxonomic problem\"*\n",
    "* Dimension: 150x4 numpy.ndarray\n",
    "* Features: Sepal Length, Sepal Width, Petal Length and Petal Width.\n",
    "* Output: Iris type (Setosa, Versicolour, and Virginica)"
   ]
  },
  {
   "cell_type": "code",
   "execution_count": 9,
   "metadata": {},
   "outputs": [
    {
     "data": {
      "text/html": [
       "<div>\n",
       "<style scoped>\n",
       "    .dataframe tbody tr th:only-of-type {\n",
       "        vertical-align: middle;\n",
       "    }\n",
       "\n",
       "    .dataframe tbody tr th {\n",
       "        vertical-align: top;\n",
       "    }\n",
       "\n",
       "    .dataframe thead th {\n",
       "        text-align: right;\n",
       "    }\n",
       "</style>\n",
       "<table border=\"1\" class=\"dataframe\">\n",
       "  <thead>\n",
       "    <tr style=\"text-align: right;\">\n",
       "      <th></th>\n",
       "      <th>sepal length (cm)</th>\n",
       "      <th>sepal width (cm)</th>\n",
       "      <th>petal length (cm)</th>\n",
       "      <th>petal width (cm)</th>\n",
       "      <th>type</th>\n",
       "    </tr>\n",
       "  </thead>\n",
       "  <tbody>\n",
       "    <tr>\n",
       "      <th>10</th>\n",
       "      <td>5.4</td>\n",
       "      <td>3.7</td>\n",
       "      <td>1.5</td>\n",
       "      <td>0.2</td>\n",
       "      <td>0</td>\n",
       "    </tr>\n",
       "    <tr>\n",
       "      <th>48</th>\n",
       "      <td>5.3</td>\n",
       "      <td>3.7</td>\n",
       "      <td>1.5</td>\n",
       "      <td>0.2</td>\n",
       "      <td>0</td>\n",
       "    </tr>\n",
       "    <tr>\n",
       "      <th>105</th>\n",
       "      <td>7.6</td>\n",
       "      <td>3.0</td>\n",
       "      <td>6.6</td>\n",
       "      <td>2.1</td>\n",
       "      <td>2</td>\n",
       "    </tr>\n",
       "    <tr>\n",
       "      <th>55</th>\n",
       "      <td>5.7</td>\n",
       "      <td>2.8</td>\n",
       "      <td>4.5</td>\n",
       "      <td>1.3</td>\n",
       "      <td>1</td>\n",
       "    </tr>\n",
       "    <tr>\n",
       "      <th>46</th>\n",
       "      <td>5.1</td>\n",
       "      <td>3.8</td>\n",
       "      <td>1.6</td>\n",
       "      <td>0.2</td>\n",
       "      <td>0</td>\n",
       "    </tr>\n",
       "    <tr>\n",
       "      <th>99</th>\n",
       "      <td>5.7</td>\n",
       "      <td>2.8</td>\n",
       "      <td>4.1</td>\n",
       "      <td>1.3</td>\n",
       "      <td>1</td>\n",
       "    </tr>\n",
       "    <tr>\n",
       "      <th>35</th>\n",
       "      <td>5.0</td>\n",
       "      <td>3.2</td>\n",
       "      <td>1.2</td>\n",
       "      <td>0.2</td>\n",
       "      <td>0</td>\n",
       "    </tr>\n",
       "    <tr>\n",
       "      <th>27</th>\n",
       "      <td>5.2</td>\n",
       "      <td>3.5</td>\n",
       "      <td>1.5</td>\n",
       "      <td>0.2</td>\n",
       "      <td>0</td>\n",
       "    </tr>\n",
       "    <tr>\n",
       "      <th>75</th>\n",
       "      <td>6.6</td>\n",
       "      <td>3.0</td>\n",
       "      <td>4.4</td>\n",
       "      <td>1.4</td>\n",
       "      <td>1</td>\n",
       "    </tr>\n",
       "    <tr>\n",
       "      <th>138</th>\n",
       "      <td>6.0</td>\n",
       "      <td>3.0</td>\n",
       "      <td>4.8</td>\n",
       "      <td>1.8</td>\n",
       "      <td>2</td>\n",
       "    </tr>\n",
       "  </tbody>\n",
       "</table>\n",
       "</div>"
      ],
      "text/plain": [
       "     sepal length (cm)  sepal width (cm)  petal length (cm)  petal width (cm)  \\\n",
       "10                 5.4               3.7                1.5               0.2   \n",
       "48                 5.3               3.7                1.5               0.2   \n",
       "105                7.6               3.0                6.6               2.1   \n",
       "55                 5.7               2.8                4.5               1.3   \n",
       "46                 5.1               3.8                1.6               0.2   \n",
       "99                 5.7               2.8                4.1               1.3   \n",
       "35                 5.0               3.2                1.2               0.2   \n",
       "27                 5.2               3.5                1.5               0.2   \n",
       "75                 6.6               3.0                4.4               1.4   \n",
       "138                6.0               3.0                4.8               1.8   \n",
       "\n",
       "     type  \n",
       "10      0  \n",
       "48      0  \n",
       "105     2  \n",
       "55      1  \n",
       "46      0  \n",
       "99      1  \n",
       "35      0  \n",
       "27      0  \n",
       "75      1  \n",
       "138     2  "
      ]
     },
     "execution_count": 9,
     "metadata": {},
     "output_type": "execute_result"
    }
   ],
   "source": [
    "import sklearn.datasets\n",
    "iris = sklearn.datasets.load_iris()\n",
    "df = pd.DataFrame(iris.data, columns=iris.feature_names)\n",
    "df['type'] = iris.target\n",
    "\n",
    "df.sample(10) #sample 10 random rows"
   ]
  },
  {
   "cell_type": "code",
   "execution_count": null,
   "metadata": {},
   "outputs": [],
   "source": []
  }
 ],
 "metadata": {
  "kernelspec": {
   "display_name": "Python 3",
   "language": "python",
   "name": "python3"
  },
  "language_info": {
   "codemirror_mode": {
    "name": "ipython",
    "version": 3
   },
   "file_extension": ".py",
   "mimetype": "text/x-python",
   "name": "python",
   "nbconvert_exporter": "python",
   "pygments_lexer": "ipython3",
   "version": "3.7.1"
  }
 },
 "nbformat": 4,
 "nbformat_minor": 2
}
