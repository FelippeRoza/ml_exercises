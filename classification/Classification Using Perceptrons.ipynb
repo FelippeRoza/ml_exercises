{
 "cells": [
  {
   "cell_type": "markdown",
   "metadata": {},
   "source": [
    "# Classification using Perceptrons\n",
    "\n",
    "<img style=\"float: left;\" width=\"600\" src=\"images/brain.jpg\">"
   ]
  },
  {
   "cell_type": "markdown",
   "metadata": {},
   "source": [
    "## Perceptron\n",
    "\n",
    "* In machine learning, the perceptron is an algorithm for supervised learning of binary classifiers\n",
    "* It is one of the first atempts to create an Artificial Neural Network\n",
    "* Invented in 1958 at the Cornell Aeronautical Laboratory by Frank Rosenblatt\n",
    "* It is a type of linear classifier (a classification algorithm that makes its predictions based on a linear predictor function combining a set of weights with the feature vector)\n",
    "\n",
    "    \\begin{equation} \\mathbf {w} \\cdot \\mathbf {x} +b \\end{equation} \n",
    "\n",
    "<img style=\"float: left;\" width=\"600\" src=\"images/perceptron_node.png\">"
   ]
  },
  {
   "cell_type": "markdown",
   "metadata": {},
   "source": [
    "#### Activation function\n",
    "\n",
    "* The output of a perceptron is a linear function of the input\n",
    "    * However, we want only to trigger the neuron when some condition is fulfilled (that is how our brain works)\n",
    "    * The activation function allows to mimic that behavior, avoiding -inf/+inf as output\n",
    "* In artificial neural networks, the activation function is a equation that defines the output of that node given an input or set of inputs\n",
    "* For the perceptron, activation function is defined as:\n",
    "$f(\\mathbf {x} )={\\begin{cases}1&{\\text{if }}\\ \\mathbf {w} \\cdot \\mathbf {x} +b>0,\\\\0&{\\text{otherwise}}\\end{cases}}$\n",
    "\n",
    "* where $\\mathbf {w}$  is a vector of real-valued weight and $b$ is the bias. \n",
    "\n",
    "    * The bias shifts the decision boundary away from the origin\n",
    "\n",
    "* Alternative activation functions:\n",
    "    * Sigmoid or Logistic\n",
    "    * Tanh — Hyperbolic tangent\n",
    "    * ReLu -Rectified linear units\n",
    "    "
   ]
  },
  {
   "cell_type": "code",
   "execution_count": 1,
   "metadata": {},
   "outputs": [],
   "source": [
    "import numpy as np # package for scientific computing in Python (similar to Matlab)\n",
    "import pandas as pd\n",
    "\n",
    "def perceptron(x, w, b):\n",
    "    # perceptron function for a single example\n",
    "    linear_output = (np.dot(x, w) + b) # np.dot is the dot product\n",
    "    \n",
    "    if linear_output > 0.0:\n",
    "        activation = 1\n",
    "    else:\n",
    "        activation = 0\n",
    "    return activation\n",
    "\n",
    "def prediction(x, w, b):\n",
    "    # the prediction function consists in computing the perceptron prediction for each given example\n",
    "    y_hat = np.array([])\n",
    "    for x_i in x.values:\n",
    "        y_hat = np.append(y_hat, perceptron(x_i, w, b))\n",
    "    return y_hat"
   ]
  },
  {
   "cell_type": "markdown",
   "metadata": {},
   "source": [
    "### Training\n",
    "\n",
    "* Training a perceptron means updating the weight and bias vectors in order to minimize the loss function\n",
    "* The minimization can be achieved by using gradient descent\n",
    "    * in terms of weight vector: \\begin{equation} \\mathbf{w}' = \\mathbf{w} + \\alpha (y - \\hat{y}) * x\\end{equation}\n",
    "    * in terms of bias: \\begin{equation} \\mathbf{b}' = \\mathbf{b} + \\alpha (y - \\hat{y}) \\end{equation}\n",
    "* Epoch is a single algorithmic run though all the examples in the dataset\n",
    "* Sometimes training just once is not enough to fit the model\n",
    "* To guarantee convergence, it is usual to train neural networks using several epochs"
   ]
  },
  {
   "cell_type": "code",
   "execution_count": 2,
   "metadata": {},
   "outputs": [],
   "source": [
    "def perceptron_train(x, y, learning_rate = 0.01, epochs = 50):\n",
    "    # (x, y) is the set of training examples\n",
    "    n_features = x.shape[1] # number of input features\n",
    "    w = np.zeros(n_features) # initialization of weight vector with zeros\n",
    "    b = 0 # bias\n",
    "    for e in range(epochs):\n",
    "        for x_i, y_i in zip(x, y):\n",
    "            y_hat = perceptron(x_i, w, b) # the model prediction for this input example\n",
    "            w = w + learning_rate * (y_i - y_hat) * x_i # update weights\n",
    "            b = b + learning_rate * (y_i - y_hat) # update bias\n",
    "    return (w, b)"
   ]
  },
  {
   "cell_type": "markdown",
   "metadata": {},
   "source": [
    "## Iris dataset\n",
    "\n",
    "* This data sets consists of 3 different types of irises’ petal and sepal length\n",
    "* Introduced by the British statistician and biologist Ronald Fisher in his 1936 paper *\"The use of multiple measurements in taxonomic problem\"*\n",
    "* Dimension: 150x4 (150 examples, 4 features)\n",
    "* Features: Sepal Length, Sepal Width, Petal Length and Petal Width.\n",
    "* Output: Iris' type (Setosa, Versicolour, and Virginica)\n",
    "\n",
    "<img style=\"float: left;\" width=\"600\" src=\"images/iris_dataset.png\">"
   ]
  },
  {
   "cell_type": "code",
   "execution_count": 3,
   "metadata": {},
   "outputs": [
    {
     "data": {
      "text/html": [
       "<div>\n",
       "<style scoped>\n",
       "    .dataframe tbody tr th:only-of-type {\n",
       "        vertical-align: middle;\n",
       "    }\n",
       "\n",
       "    .dataframe tbody tr th {\n",
       "        vertical-align: top;\n",
       "    }\n",
       "\n",
       "    .dataframe thead th {\n",
       "        text-align: right;\n",
       "    }\n",
       "</style>\n",
       "<table border=\"1\" class=\"dataframe\">\n",
       "  <thead>\n",
       "    <tr style=\"text-align: right;\">\n",
       "      <th></th>\n",
       "      <th>sepal length (cm)</th>\n",
       "      <th>sepal width (cm)</th>\n",
       "      <th>petal length (cm)</th>\n",
       "      <th>petal width (cm)</th>\n",
       "      <th>type</th>\n",
       "    </tr>\n",
       "  </thead>\n",
       "  <tbody>\n",
       "    <tr>\n",
       "      <th>63</th>\n",
       "      <td>6.1</td>\n",
       "      <td>2.9</td>\n",
       "      <td>4.7</td>\n",
       "      <td>1.4</td>\n",
       "      <td>1</td>\n",
       "    </tr>\n",
       "    <tr>\n",
       "      <th>120</th>\n",
       "      <td>6.9</td>\n",
       "      <td>3.2</td>\n",
       "      <td>5.7</td>\n",
       "      <td>2.3</td>\n",
       "      <td>2</td>\n",
       "    </tr>\n",
       "    <tr>\n",
       "      <th>80</th>\n",
       "      <td>5.5</td>\n",
       "      <td>2.4</td>\n",
       "      <td>3.8</td>\n",
       "      <td>1.1</td>\n",
       "      <td>1</td>\n",
       "    </tr>\n",
       "    <tr>\n",
       "      <th>42</th>\n",
       "      <td>4.4</td>\n",
       "      <td>3.2</td>\n",
       "      <td>1.3</td>\n",
       "      <td>0.2</td>\n",
       "      <td>0</td>\n",
       "    </tr>\n",
       "    <tr>\n",
       "      <th>148</th>\n",
       "      <td>6.2</td>\n",
       "      <td>3.4</td>\n",
       "      <td>5.4</td>\n",
       "      <td>2.3</td>\n",
       "      <td>2</td>\n",
       "    </tr>\n",
       "  </tbody>\n",
       "</table>\n",
       "</div>"
      ],
      "text/plain": [
       "     sepal length (cm)  sepal width (cm)  petal length (cm)  petal width (cm)  \\\n",
       "63                 6.1               2.9                4.7               1.4   \n",
       "120                6.9               3.2                5.7               2.3   \n",
       "80                 5.5               2.4                3.8               1.1   \n",
       "42                 4.4               3.2                1.3               0.2   \n",
       "148                6.2               3.4                5.4               2.3   \n",
       "\n",
       "     type  \n",
       "63      1  \n",
       "120     2  \n",
       "80      1  \n",
       "42      0  \n",
       "148     2  "
      ]
     },
     "execution_count": 3,
     "metadata": {},
     "output_type": "execute_result"
    }
   ],
   "source": [
    "# load dataset and convert to pandas dataframe\n",
    "from sklearn import datasets\n",
    "\n",
    "iris = datasets.load_iris()\n",
    "df = pd.DataFrame(iris.data, columns=iris.feature_names)\n",
    "df['type'] = iris.target\n",
    "\n",
    "df.sample(5) #sample 10 random rows\n"
   ]
  },
  {
   "cell_type": "markdown",
   "metadata": {},
   "source": [
    "#### Adequate output\n",
    "\n",
    "* We must remember that the perceptron design assumed binary classification\n",
    "* To adequate the dataset, we can remove one of the output classes\n",
    "* The result will be a datased with examples for two different Iris species\n",
    "    * i.e, a binary target that will work with our perceptron"
   ]
  },
  {
   "cell_type": "code",
   "execution_count": 4,
   "metadata": {},
   "outputs": [
    {
     "name": "stdout",
     "output_type": "stream",
     "text": [
      "Output classes before removal: [0 1 2]\n",
      "Output classes before removal: [0 1]\n"
     ]
    }
   ],
   "source": [
    "print('Output classes before removal:', df['type'].unique())\n",
    "\n",
    "df = df[df['type'] != 2].reset_index(drop=True)\n",
    "\n",
    "print('Output classes before removal:', df['type'].unique())\n",
    "\n",
    "x = df.drop('type', axis = 1) # input is the features without Iris species (type)\n",
    "y = df['type'] # output is the Iris specie"
   ]
  },
  {
   "cell_type": "markdown",
   "metadata": {},
   "source": [
    "## Now we can train and compare the results\n",
    "\n",
    "* Splitting into training and testing sets is important for a better evaluation\n",
    "    * Avoid misinterpretation due to overfitting\n",
    "* However, the train will be done using the whole dataset\n",
    "    * The idea is only to show the algorithm working, and not to evaluate the results"
   ]
  },
  {
   "cell_type": "code",
   "execution_count": 5,
   "metadata": {},
   "outputs": [],
   "source": [
    "# train the perceptron\n",
    "alpha = 0.1 # learning_rate\n",
    "\n",
    "# the training result is basically the weight vector and the bias\n",
    "(w, b) = perceptron_train(x.values, y.values, alpha, epochs = 20) \n",
    "\n",
    "# use the perceptron to predict the irises' types\n",
    "prediction_df = x\n",
    "y_hat = prediction(prediction_df, w, b)\n",
    "prediction_df['type'] = y_hat"
   ]
  },
  {
   "cell_type": "code",
   "execution_count": 6,
   "metadata": {},
   "outputs": [
    {
     "data": {
      "image/png": "[encoded data removed]",
      "text/plain": [
       "<Figure size 1440x432 with 2 Axes>"
      ]
     },
     "metadata": {
      "needs_background": "light"
     },
     "output_type": "display_data"
    }
   ],
   "source": [
    "import matplotlib.pyplot as plt #plotting library\n",
    "%matplotlib inline\n",
    "\n",
    "plt.figure(figsize=(20, 6))\n",
    "\n",
    "for df, title, plot_number in [(df, 'Real Examples', 1), (prediction_df, 'Predicted', 2)]:\n",
    "    plt.subplot(1, 2 , plot_number)\n",
    "    temp = df[df['type'] == 0]\n",
    "    plt.scatter(temp.iloc[:,0], temp.iloc[:,1], c='red', label='setosa')\n",
    "    temp = df[df['type'] == 1]\n",
    "    plt.scatter(temp.iloc[:,0], temp.iloc[:,1], c='blue', label='versicolor')\n",
    "    plt.xlabel('sepal length (cm)')\n",
    "    plt.ylabel('sepal width (cm)')\n",
    "    plt.title(title)\n",
    "    plt.legend(loc=2)"
   ]
  }
 ],
 "metadata": {
  "kernelspec": {
   "display_name": "Python 3",
   "language": "python",
   "name": "python3"
  },
  "language_info": {
   "codemirror_mode": {
    "name": "ipython",
    "version": 3
   },
   "file_extension": ".py",
   "mimetype": "text/x-python",
   "name": "python",
   "nbconvert_exporter": "python",
   "pygments_lexer": "ipython3",
   "version": "3.7.1"
  }
 },
 "nbformat": 4,
 "nbformat_minor": 2
}
